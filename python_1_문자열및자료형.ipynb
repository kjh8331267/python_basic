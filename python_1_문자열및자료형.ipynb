{
 "cells": [
  {
   "cell_type": "markdown",
   "metadata": {},
   "source": [
    "# PYTHON "
   ]
  },
  {
   "cell_type": "markdown",
   "metadata": {},
   "source": [
    "# 문자열, 숫자, 형변환 메소드"
   ]
  },
  {
   "cell_type": "markdown",
   "metadata": {},
   "source": [
    "1. 문자열메소드\n",
    "    * a.startswith('b'), a.endswith('b')\n",
    "    * a.find('b'), a.rfind('b')\n",
    "    * a.count('b'), len(a)\n",
    "    * a.lstrip(), a.rstrip(), a.strip #공백제거\n",
    "    * a.isalpha(), a.isnumeric(), a.isalnum() #True/False 리턴\n",
    "    * a.replace('a', 'b') #a를 b로 변경\n",
    "    * a.split(',') #a를 지정문자를 기준으로 리스트만듬★\n",
    "    * ','.JOIN(a) #지정문자를 기준으로 리스트 a를 합침★\n",
    "    * a.lower(), a.upper()\n",
    "    * 문자열{}.format(대입값) // print(문자열%s %d, %(대입값))\n",
    "    * a.tilte() #단어별 첫글자 대문자\n",
    "    * a.capitalize() #전체의 첫글자 대문자 나머지 소문자\n",
    "    * a.swapcase()   #대소문자변경\n",
    "    * a.center(자리수), a.center(자리수, 문자)  #가운데정렬, 빈곳은 해당문자로 채움\n",
    "    * a.ljust(자리수, 문자), a.rjust(자리수, 문자)\n",
    "2. 숫자 메소드\n",
    "    * a, b = divmod(5,3) #a에는 몫, b에는 나머지\n",
    "    * abs(-4), round(4.1), math.trunc(4.1)  #import math\n",
    "3. 형변환\n",
    "    * int() 숫자, float() 실수\n",
    "    * complex() 복소수, str() 문자\n",
    "4. 진법\n",
    "    * bin() 2진법, oct() 8진법, hex() 16진법"
   ]
  },
  {
   "cell_type": "markdown",
   "metadata": {},
   "source": [
    "# 문자열 문제"
   ]
  },
  {
   "cell_type": "markdown",
   "metadata": {},
   "source": [
    "문자열 v_str = \"시간은 멈추지 않습니다. 하루를 유익하게 살아야합니다.\"\n",
    "문제 3\n",
    "1. \"시간은 멈추지 않습니다.\" 만 출력해주세요"
   ]
  },
  {
   "cell_type": "code",
   "execution_count": 11,
   "metadata": {
    "collapsed": true
   },
   "outputs": [],
   "source": [
    "v_str = \"시간은 멈추지 않습니다. 하루를 유익하게 살아야합니다.\""
   ]
  },
  {
   "cell_type": "code",
   "execution_count": 12,
   "metadata": {
    "scrolled": true
   },
   "outputs": [
    {
     "data": {
      "text/plain": [
       "'시간은 멈추지 않습니다.'"
      ]
     },
     "execution_count": 12,
     "metadata": {},
     "output_type": "execute_result"
    }
   ],
   "source": [
    "v_str[:13]"
   ]
  },
  {
   "cell_type": "markdown",
   "metadata": {},
   "source": [
    "2. \"하루를 유익하게 살아야합니다.\" 만 출력해주세요"
   ]
  },
  {
   "cell_type": "code",
   "execution_count": 13,
   "metadata": {},
   "outputs": [
    {
     "data": {
      "text/plain": [
       "'하루를 유익하게 살아야합니다.'"
      ]
     },
     "execution_count": 13,
     "metadata": {},
     "output_type": "execute_result"
    }
   ],
   "source": [
    "v_str[14:]"
   ]
  },
  {
   "cell_type": "markdown",
   "metadata": {},
   "source": [
    "3. \"살아야합니다.\"  만 출력해주세요"
   ]
  },
  {
   "cell_type": "code",
   "execution_count": 14,
   "metadata": {},
   "outputs": [
    {
     "data": {
      "text/plain": [
       "23"
      ]
     },
     "execution_count": 14,
     "metadata": {},
     "output_type": "execute_result"
    }
   ],
   "source": [
    "v_str.find('살아야')"
   ]
  },
  {
   "cell_type": "code",
   "execution_count": 15,
   "metadata": {},
   "outputs": [
    {
     "data": {
      "text/plain": [
       "'살아야합니다.'"
      ]
     },
     "execution_count": 15,
     "metadata": {},
     "output_type": "execute_result"
    }
   ],
   "source": [
    "v_str[23:]"
   ]
  },
  {
   "cell_type": "markdown",
   "metadata": {},
   "source": [
    "4. \"시추니루하야\"  이 글자만 출력해주세요."
   ]
  },
  {
   "cell_type": "code",
   "execution_count": 16,
   "metadata": {},
   "outputs": [
    {
     "data": {
      "text/plain": [
       "'시추니루하야'"
      ]
     },
     "execution_count": 16,
     "metadata": {},
     "output_type": "execute_result"
    }
   ],
   "source": [
    "v_str[::5]"
   ]
  },
  {
   "cell_type": "markdown",
   "metadata": {},
   "source": [
    "5. \"시간은 멈추지 않습니다. 하루를 유익하게\" 만 출력해주세요."
   ]
  },
  {
   "cell_type": "code",
   "execution_count": 17,
   "metadata": {},
   "outputs": [
    {
     "data": {
      "text/plain": [
       "'시간은 멈추지 않습니다. 하루를 유익하게'"
      ]
     },
     "execution_count": 17,
     "metadata": {},
     "output_type": "execute_result"
    }
   ],
   "source": [
    "v_str[0:22]"
   ]
  },
  {
   "cell_type": "markdown",
   "metadata": {},
   "source": [
    "6. v_str 문자열을 뒤순으로 출력해 주세요."
   ]
  },
  {
   "cell_type": "code",
   "execution_count": null,
   "metadata": {
    "collapsed": true
   },
   "outputs": [],
   "source": [
    "v_str[::-1]"
   ]
  },
  {
   "cell_type": "markdown",
   "metadata": {},
   "source": [
    "문제 4. 포맷문자를 이용해서 출력하세요."
   ]
  },
  {
   "cell_type": "markdown",
   "metadata": {},
   "source": [
    "1. 안녕하세요. {제임스} 입니다. 즐겨듣는 음악은 {클래식} 입니다."
   ]
  },
  {
   "cell_type": "code",
   "execution_count": null,
   "metadata": {
    "collapsed": true
   },
   "outputs": [],
   "source": [
    "'안녕하세요.{}입니다. 즐겨듣는 음악은 {}입니다.'.format('제임스','클래식')"
   ]
  },
  {
   "cell_type": "code",
   "execution_count": null,
   "metadata": {
    "collapsed": true
   },
   "outputs": [],
   "source": [
    "print('안녕하세요, %s입니다. 즐겨듣는 음악은 %s입니다.'%('제임스','클래식'))"
   ]
  },
  {
   "cell_type": "code",
   "execution_count": 18,
   "metadata": {},
   "outputs": [
    {
     "name": "stdout",
     "output_type": "stream",
     "text": [
      "안녕하세요. 제임스입니다. 즐겨듣는 음악은 클래식입니다.\n"
     ]
    }
   ],
   "source": [
    "name = '제임스'\n",
    "music = '클래식'\n",
    "print('안녕하세요. {}입니다. 즐겨듣는 음악은 {}입니다.'.format(name, music))"
   ]
  },
  {
   "cell_type": "markdown",
   "metadata": {},
   "source": [
    "2. {996} 를 {8} 나누면 {124}는 몫이고 {4} 나머지입니다"
   ]
  },
  {
   "cell_type": "code",
   "execution_count": 20,
   "metadata": {},
   "outputs": [
    {
     "name": "stdout",
     "output_type": "stream",
     "text": [
      "996 를 8 나누면 124는 몫이고 4나머지입니다\n"
     ]
    }
   ],
   "source": [
    "num_1 = 996\n",
    "num_2 = 8\n",
    "result_1,result_2 = divmod(num_1,num_2)   #이때 몫은 result_1, 나머지는 result_2에 저장됨\n",
    "print('%d 를 %d 나누면 %d는 몫이고 %d나머지입니다'%(num_1,num_2,result_1,result_2))"
   ]
  },
  {
   "cell_type": "markdown",
   "metadata": {},
   "source": [
    "문제5\n",
    "1. 반복문을 사용하지 않고  * 를 가로 100개 출력"
   ]
  },
  {
   "cell_type": "code",
   "execution_count": 23,
   "metadata": {
    "scrolled": true
   },
   "outputs": [
    {
     "data": {
      "text/plain": [
       "'****************************************************************************************************'"
      ]
     },
     "execution_count": 23,
     "metadata": {},
     "output_type": "execute_result"
    }
   ],
   "source": [
    "'*'*100"
   ]
  },
  {
   "cell_type": "markdown",
   "metadata": {},
   "source": [
    "2. 반복문을 사용하지 않고  * 를 세로 10개 출력"
   ]
  },
  {
   "cell_type": "code",
   "execution_count": null,
   "metadata": {
    "collapsed": true
   },
   "outputs": [],
   "source": [
    "print('''*\n",
    "'''*10)   #'줄띄움 가능single qutation mark 3개"
   ]
  },
  {
   "cell_type": "code",
   "execution_count": null,
   "metadata": {
    "collapsed": true
   },
   "outputs": [],
   "source": [
    "print('*\\n' * 10) #줄바꿈 \\n"
   ]
  },
  {
   "cell_type": "markdown",
   "metadata": {},
   "source": [
    "3. alha = 'aAbBcCdDeEfFgGhHiIjJkK' 변수에 값이 들어 있습니다. \n",
    "화면의 결과는  ABCDEFGHIJK 출력하세요."
   ]
  },
  {
   "cell_type": "code",
   "execution_count": null,
   "metadata": {
    "collapsed": true
   },
   "outputs": [],
   "source": [
    "alha = 'aAbBcCdDeEfFgGhHiIjJkK'"
   ]
  },
  {
   "cell_type": "code",
   "execution_count": null,
   "metadata": {
    "collapsed": true
   },
   "outputs": [],
   "source": [
    "alha[::-2][::-1]"
   ]
  },
  {
   "cell_type": "code",
   "execution_count": null,
   "metadata": {
    "collapsed": true
   },
   "outputs": [],
   "source": [
    "print(alha[1::2])"
   ]
  },
  {
   "cell_type": "markdown",
   "metadata": {},
   "source": [
    "문제6\n",
    "a = 'a b c d e f g' 변수에 문자열이 들어 있습니다. 다음을 수행하세요.\n",
    "\n",
    "1. a 변수에 있는 문자의 갯수를  구하세요."
   ]
  },
  {
   "cell_type": "code",
   "execution_count": 1,
   "metadata": {
    "collapsed": true
   },
   "outputs": [],
   "source": [
    "a = 'a b c d e f g'"
   ]
  },
  {
   "cell_type": "code",
   "execution_count": null,
   "metadata": {
    "collapsed": true
   },
   "outputs": [],
   "source": [
    "len(a)"
   ]
  },
  {
   "cell_type": "markdown",
   "metadata": {},
   "source": [
    "2. a 변수에 공백문자 갯수를 구하세요."
   ]
  },
  {
   "cell_type": "code",
   "execution_count": null,
   "metadata": {
    "collapsed": true
   },
   "outputs": [],
   "source": [
    "a.count(' ')"
   ]
  },
  {
   "cell_type": "markdown",
   "metadata": {},
   "source": [
    "3. a 변수 안에 있는 공백문자를 제외한 갯수를 구하세요."
   ]
  },
  {
   "cell_type": "code",
   "execution_count": null,
   "metadata": {
    "collapsed": true
   },
   "outputs": [],
   "source": [
    "print(len(a) - a.count(' '))"
   ]
  },
  {
   "cell_type": "markdown",
   "metadata": {},
   "source": [
    "4. a 변수에 있는 공백문자를 제거한 후 b 변수에 넣어주세요"
   ]
  },
  {
   "cell_type": "code",
   "execution_count": 2,
   "metadata": {},
   "outputs": [
    {
     "data": {
      "text/plain": [
       "'abcdefg'"
      ]
     },
     "execution_count": 2,
     "metadata": {},
     "output_type": "execute_result"
    }
   ],
   "source": [
    "b = a.replace(' ','')\n",
    "b"
   ]
  },
  {
   "cell_type": "markdown",
   "metadata": {},
   "source": [
    "5. a 변수에 있는 문자를 분리한 후 c 변수에 넣어주세요."
   ]
  },
  {
   "cell_type": "code",
   "execution_count": 3,
   "metadata": {},
   "outputs": [
    {
     "data": {
      "text/plain": [
       "['a', 'b', 'c', 'd', 'e', 'f', 'g']"
      ]
     },
     "execution_count": 3,
     "metadata": {},
     "output_type": "execute_result"
    }
   ],
   "source": [
    "c = a.split(' ')\n",
    "c"
   ]
  },
  {
   "cell_type": "markdown",
   "metadata": {},
   "source": [
    "6. c 변수에 있는 문자를 합쳐서 자신의 변수에 다시 넣어주세요."
   ]
  },
  {
   "cell_type": "code",
   "execution_count": 4,
   "metadata": {},
   "outputs": [
    {
     "data": {
      "text/plain": [
       "'a,b,c,d,e,f,g'"
      ]
     },
     "execution_count": 4,
     "metadata": {},
     "output_type": "execute_result"
    }
   ],
   "source": [
    "c = ','.join(c)\n",
    "c"
   ]
  },
  {
   "cell_type": "markdown",
   "metadata": {},
   "source": [
    "# 데이터 자료형(list, tuple, set, dictionary, range)"
   ]
  },
  {
   "cell_type": "markdown",
   "metadata": {},
   "source": [
    "## 1. list   (a = [ , , , ])\n",
    "- 다른 자료형(숫자, 문자등) 한 리스트에 담을 수 있음\n",
    "- 방번호(index)는 자동으로 설정됨\n",
    "- [ ] + [ ] 리스트끼리 결합가능\n",
    "- 리스트 메소드 (삽입, 삭제, 정보 출력, 정렬)\n",
    "    * a.append('값'), a.extend([값1, 값2,..]), a.insert(방번호, 값)   #다중 값, 방번호지정 등의 값 삽입가능\n",
    "    * a.remove(값), a.pop(값), del a[방번호]   #해당 인덱스의 값 삭제 가능\n",
    "    * a.index(값), a.count(값), len(a)   #값에 대한 인덱스출력, 값에 대한 건수출력, 전체건수 출력\n",
    "    * a.sort(reverse = True 옵션), a.reverse()   #값 정렬, 자기자신에게 소트결과넣음\n",
    "    * 변수 = sorted(a, reverse = False) #정렬후 객체저장가능(얘는 함수임)\n",
    "    * for x, y in enumerate(a)  #각 반복시 변수에 대한 인덱스, 값추출가능\n",
    "- 리스트 내장객체\n",
    "    * 리스트변수 = [i표현식 for i in 변수]\n",
    "    * 리스트변수 = [i for i in 변수 if 조건식]\n",
    "   \n",
    "## 2. tuple   (a = ( , , ))\n",
    "- 읽기전용! 따라서 수정불가능 read-only\n",
    "- 방번호 자동설정\n",
    "- ( ) + ( ) 튜플끼리 결합가능\n",
    "- 요소 1개시 , 넣어야함\n",
    "- ★패킹, 언패킹 가능 (튜플요소 수 일치)\n",
    "- 튜플 메소드 (정보출력)\n",
    "    * a.index(값), a.count(값)\n",
    "    \n",
    "## 3. set   (a = { , , })\n",
    "- 집합계산시 유용\n",
    "- 인덱스 없음, 중복 불허!\n",
    "- 셋 메소드\n",
    "    * a.union(b)  # a|b합집합, a.intersection(b)   # a&b교집합\n",
    "    * a.difference(b)   #a-b차집합\n",
    "    * 값 in a, a = set() #선언!딕셔너리와 구별\n",
    "    * a.add(값), a.remove(값)\n",
    " \n",
    "## 4. dictionary  (a = {'키1': '값1', '키2' : 값2', '키3':'값3})\n",
    "- key와 value값으로 이루어짐\n",
    "- 키밸류 한 묶음씩 튜플로 언패킹 가능 ; 변수1, 변수2 = dic.items()\n",
    "    * a = {} #선언\n",
    "    * a['키1'] = '값1' #키 값을 이용한 데이터 삽입\n",
    "    * del a['키'], dic.pop('키')   #키 값을 이용한 데이터 삭제\n",
    "    * a.clear()   #a안 데이터전체삭제\n",
    "    * a.items(), a.keys(), a.values(), 값 in a.keys(), 값 in a.values()\n",
    "    * for x, y in dic.items()   #키값과 밸류값 추출가능\n",
    "- 소트 : 키값/ 밸류값을 기준으로 소트시 operator 모듈이용(타입바뀜)\n",
    "    * res_sort = sorted(res.items(), key = operator.itemgetter(0))\n",
    "    * 0 은 키 / 1은 밸류\n",
    "\n",
    "## 5. range\n",
    "- 반복문에서 많이 쓰임\n",
    "- range(끝)  ★주의 : 끝포함 X\n",
    "- range(스타트, 끝)\n",
    "- range(스타트, 끝, 증가값)\n",
    "    * range(10)   # 0부터 9까지\n",
    "    * range(2, 10, 2)  # 2 4 6 8"
   ]
  },
  {
   "cell_type": "code",
   "execution_count": 24,
   "metadata": {
    "collapsed": true
   },
   "outputs": [],
   "source": [
    "a = [1,2,3]"
   ]
  },
  {
   "cell_type": "code",
   "execution_count": 31,
   "metadata": {
    "collapsed": true
   },
   "outputs": [],
   "source": [
    "a,b,c = a #언패킹"
   ]
  },
  {
   "cell_type": "code",
   "execution_count": 28,
   "metadata": {
    "collapsed": true
   },
   "outputs": [],
   "source": [
    "a = a,b,c #패킹"
   ]
  },
  {
   "cell_type": "code",
   "execution_count": 32,
   "metadata": {},
   "outputs": [
    {
     "data": {
      "text/plain": [
       "int"
      ]
     },
     "execution_count": 32,
     "metadata": {},
     "output_type": "execute_result"
    }
   ],
   "source": []
  },
  {
   "cell_type": "markdown",
   "metadata": {},
   "source": [
    "문제 7\n",
    "food = [['김밥','라면','오뎅'],['비빔밥','김치찌게'],['자장면','짬뽕']]\n",
    "1. 1번 index에 청국장 추가 하세요"
   ]
  },
  {
   "cell_type": "code",
   "execution_count": null,
   "metadata": {
    "collapsed": true
   },
   "outputs": [],
   "source": [
    "food = [['김밥','라면','오뎅'],['비빔밥','김치찌게'],['자장면','짬뽕']]\n",
    "food[1].append('청국장')"
   ]
  },
  {
   "cell_type": "markdown",
   "metadata": {},
   "source": [
    "2. 2번 index에 탕수육 추가하세요."
   ]
  },
  {
   "cell_type": "code",
   "execution_count": null,
   "metadata": {
    "collapsed": true
   },
   "outputs": [],
   "source": [
    "food[2].append('탕수육')"
   ]
  },
  {
   "cell_type": "markdown",
   "metadata": {},
   "source": [
    "3. 0번 index에 있는 오뎅 삭제하세요."
   ]
  },
  {
   "cell_type": "code",
   "execution_count": null,
   "metadata": {
    "collapsed": true
   },
   "outputs": [],
   "source": [
    "food[0].remove('오뎅')"
   ]
  },
  {
   "cell_type": "markdown",
   "metadata": {},
   "source": [
    "4. 0번 index에 튀김, 튀김, 떡복이 한꺼번에 추가하세요"
   ]
  },
  {
   "cell_type": "code",
   "execution_count": null,
   "metadata": {
    "collapsed": true
   },
   "outputs": [],
   "source": [
    "food[0].extend(['튀김','튀김','떡복이'])"
   ]
  },
  {
   "cell_type": "markdown",
   "metadata": {},
   "source": [
    "5. 2번 index에 2번 위치에 유산슬 추가하세요"
   ]
  },
  {
   "cell_type": "code",
   "execution_count": null,
   "metadata": {
    "collapsed": true
   },
   "outputs": [],
   "source": [
    "food[2].insert(2,'유산슬')"
   ]
  },
  {
   "cell_type": "markdown",
   "metadata": {},
   "source": [
    "6. 튀김이 갯수를 세어주세요"
   ]
  },
  {
   "cell_type": "code",
   "execution_count": null,
   "metadata": {
    "collapsed": true
   },
   "outputs": [],
   "source": [
    " food[0].count('튀김')"
   ]
  },
  {
   "cell_type": "markdown",
   "metadata": {},
   "source": [
    "7. 0번 index만 정렬해주세요"
   ]
  },
  {
   "cell_type": "code",
   "execution_count": null,
   "metadata": {
    "collapsed": true
   },
   "outputs": [],
   "source": [
    "food[0].sort()"
   ]
  },
  {
   "cell_type": "code",
   "execution_count": null,
   "metadata": {
    "collapsed": true
   },
   "outputs": [],
   "source": [
    "food.sort()"
   ]
  },
  {
   "cell_type": "code",
   "execution_count": null,
   "metadata": {
    "collapsed": true
   },
   "outputs": [],
   "source": [
    "food.sort(reverse = True)"
   ]
  },
  {
   "cell_type": "markdown",
   "metadata": {},
   "source": [
    "8. 0번 index에 마지막 데이터 삭제하세요"
   ]
  },
  {
   "cell_type": "code",
   "execution_count": null,
   "metadata": {
    "collapsed": true
   },
   "outputs": [],
   "source": [
    "food[0].pop()"
   ]
  }
 ],
 "metadata": {
  "kernelspec": {
   "display_name": "Python 3",
   "language": "python",
   "name": "python3"
  },
  "language_info": {
   "codemirror_mode": {
    "name": "ipython",
    "version": 3
   },
   "file_extension": ".py",
   "mimetype": "text/x-python",
   "name": "python",
   "nbconvert_exporter": "python",
   "pygments_lexer": "ipython3",
   "version": "3.5.3"
  }
 },
 "nbformat": 4,
 "nbformat_minor": 2
}
